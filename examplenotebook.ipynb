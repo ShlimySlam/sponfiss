{
 "cells": [
  {
   "cell_type": "code",
   "execution_count": 13,
   "metadata": {},
   "outputs": [],
   "source": [
    "import sponfiss.snsfpy as sf\n"
   ]
  },
  {
   "cell_type": "markdown",
   "metadata": {},
   "source": [
    "I created a simple function that can convert ZAID into nuclei and isotope symbols"
   ]
  },
  {
   "cell_type": "code",
   "execution_count": 9,
   "metadata": {},
   "outputs": [
    {
     "name": "stdout",
     "output_type": "stream",
     "text": [
      "Pu239\n"
     ]
    }
   ],
   "source": [
    "print(sf.zaid_to_symbol(94239))"
   ]
  },
  {
   "cell_type": "markdown",
   "metadata": {},
   "source": [
    "First we can create a simple material made up of pure U235, U235 has a density of 19.1g/cm3 and a kilogram of u235 is approximetley 52.356 cm. So we use these values"
   ]
  },
  {
   "cell_type": "code",
   "execution_count": 10,
   "metadata": {},
   "outputs": [
    {
     "name": "stdout",
     "output_type": "stream",
     "text": [
      "{'U235': 1}\n",
      "0.0005595744025141289\n"
     ]
    }
   ],
   "source": [
    "u235 = sf.material('nucfuel')\n",
    "u235.addnuclei('U235', 1) \n",
    "u235.set_density(19.1)\n",
    "u235.set_volume(52.356)\n",
    "print(u235.composition)\n",
    "print(u235.sponfiss('AtomFrac'))"
   ]
  },
  {
   "cell_type": "markdown",
   "metadata": {},
   "source": [
    "The results are  ~0.005595 wich corresponds well with a value i found online https://nuclearweaponarchive.org/Nwfaq/Nfaq12.html \n",
    "where the value was 5.6 * 10^-3"
   ]
  },
  {
   "cell_type": "markdown",
   "metadata": {},
   "source": [
    "| ZAID  | **Atomic Density** *(barn⁻¹·cm⁻¹)* |\n",
    "| ----- | -------------------- |\n",
    "| 8016  | 4.76318709979466E-02 |\n",
    "| 92232 | 7.06104652673138E-15 |\n",
    "| 92233 | 2.35088603140821E-11 |\n",
    "| 92234 | 3.04159895434244E-08 |\n",
    "| 92235 | 4.49538785711297E-04 |\n",
    "| 92236 | 6.89750759080931E-05 |\n",
    "| 92238 | 2.26704289203308E-02 |\n",
    "| 93237 | 4.55266877773770E-06 |\n",
    "| 94236 | 1.89748994915674E-14 |\n",
    "| 94238 | 7.46428645473517E-07 |\n",
    "| 94239 | 1.24397804220399E-04 |\n",
    "| 94240 | 2.91722130669398E-05 |\n",
    "| 94241 | 1.62079695976725E-05 |\n",
    "| 94242 | 2.48409460618007E-06 |\n",
    "| 95241 | 3.48993557415652E-07 |\n",
    "| 96242 | 6.91986026960431E-08 |\n",
    "| 96244 | 3.34182840687710E-08 |\n",
    "| 96246 | 3.15376964764952E-11 |\n",
    "\n",
    "Inputting these values into serpent2 gave a Spontaneous Fission Rate of 2.77116 × 10² fissions/second\n",
    "\n",
    "Now we will do the same with this library but firstly i will print the composition so that everything looks ok."
   ]
  },
  {
   "cell_type": "code",
   "execution_count": 11,
   "metadata": {},
   "outputs": [
    {
     "name": "stdout",
     "output_type": "stream",
     "text": [
      "{'O16': 4.7631870997946606e+23, 'U232': 70610465267.3138, 'U233': 235088603140821.03, 'U234': 3.0415989543424403e+17, 'U235': 4.4953878571129703e+21, 'U236': 6.89750759080931e+20, 'U238': 2.2670428920330804e+23, 'Np237': 4.5526687777377e+19, 'Pu236': 189748994915.674, 'Pu238': 7.464286454735172e+18, 'Pu239': 1.24397804220399e+21, 'Pu240': 2.9172213066939803e+20, 'Pu241': 1.62079695976725e+20, 'Pu242': 2.48409460618007e+19, 'Am241': 3.48993557415652e+18, 'Cm242': 6.919860269604311e+17, 'Cm244': 3.341828406877101e+17, 'Cm246': 315376964764952.0}\n"
     ]
    }
   ],
   "source": [
    "nucfuel = sf.material('nucfuel') # Create a material \n",
    "\n",
    "zaid_list = [ 8016, 92232, 92233, 92234, 92235, 92236, 92238, 93237, 94236,\n",
    "              94238, 94239, 94240, 94241, 94242, 95241, 96242, 96244, 96246] \n",
    "atomic_densities = [\n",
    "    4.76318709979466E-02, \n",
    "    7.06104652673138E-15,\n",
    "    2.35088603140821E-11,\n",
    "    3.04159895434244E-08,\n",
    "    4.49538785711297E-04,\n",
    "    6.89750759080931E-05,\n",
    "    2.26704289203308E-02,\n",
    "    4.55266877773770E-06,\n",
    "    1.89748994915674E-14,\n",
    "    7.46428645473517E-07,\n",
    "    1.24397804220399E-04,\n",
    "    2.91722130669398E-05,\n",
    "    1.62079695976725E-05,\n",
    "    2.48409460618007E-06,\n",
    "    3.48993557415652E-07,\n",
    "    6.91986026960431E-08,\n",
    "    3.34182840687710E-08,\n",
    "    3.15376964764952E-11]\n",
    "\n",
    "for Id, dens in zip(zaid_list, atomic_densities):\n",
    "    nucfuel.addnuclei(Id, dens*10e24, Format='ZAID') #Convert barns-1*cm-1 to cm-3\n",
    "\n",
    "nucfuel.set_density(10.5)\n",
    "nucfuel.set_volume(1)\n",
    "\n",
    "print(nucfuel.composition)"
   ]
  },
  {
   "cell_type": "markdown",
   "metadata": {},
   "source": [
    "Now we can try the spontaneous fission function but first we need to add 016 to our data since it doesnt exist in the current data set."
   ]
  },
  {
   "cell_type": "code",
   "execution_count": 12,
   "metadata": {},
   "outputs": [
    {
     "name": "stdout",
     "output_type": "stream",
     "text": [
      "the spontaneous fission rate is 2.736755728021233×10² fissions/second\n"
     ]
    }
   ],
   "source": [
    "nucfuel.addtodata('O16', molar_mass=15.99)\n",
    "\n",
    "sfiss = nucfuel.sponfiss('NumDens')\n",
    "print(f\"the spontaneous fission rate is {sfiss*1e-2}×10² fissions/second\")"
   ]
  }
 ],
 "metadata": {
  "kernelspec": {
   "display_name": "base",
   "language": "python",
   "name": "python3"
  },
  "language_info": {
   "codemirror_mode": {
    "name": "ipython",
    "version": 3
   },
   "file_extension": ".py",
   "mimetype": "text/x-python",
   "name": "python",
   "nbconvert_exporter": "python",
   "pygments_lexer": "ipython3",
   "version": "3.13.5"
  }
 },
 "nbformat": 4,
 "nbformat_minor": 4
}
